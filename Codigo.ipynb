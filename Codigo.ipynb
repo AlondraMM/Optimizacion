{
  "cells": [
    {
      "cell_type": "markdown",
      "metadata": {
        "id": "n7UqcRNiTznZ"
      },
      "source": [
        "## Algoritmo genético aplicado al problema de optimización de portafolios con restricción de cardinalidad"
      ]
    },
    {
      "cell_type": "markdown",
      "metadata": {
        "id": "QDmgwbSLTznd"
      },
      "source": [
        "El problema de optimización de cartera con restricción de cardinalidad consiste en: "
      ]
    },
    {
      "cell_type": "markdown",
      "metadata": {
        "id": "2tEuhJA9Im5S"
      },
      "source": [
        "Sea:\n",
        "- $N$: número de activos disponibles.\n",
        "- $K$ : número deseado de activos en el portafolio.\n",
        "- $\\epsilon_i$: proporción mínima que se debe mantener del activo $i$ si el activo $i$ se mantiene. Representa el nivel mínimo de transacción.\n",
        "- $\\delta_i$: proporción máxima que se debe mantener del activo $i$ si el activo $i$ se mantiene. Limita la exposición de la cartera al activo $i$.\n",
        "- $$z_i = \\left\\lbrace\\begin{array}\n",
        "1 & ~si~se~ mantiene ~el~ activo~i\\\\\n",
        "0 & ~ en~ otro~ caso\n",
        "\\end{array}\\right.$$\n"
      ]
    },
    {
      "cell_type": "markdown",
      "metadata": {
        "id": "XjRwr5_IBGgj"
      },
      "source": [
        "Minimizar\n",
        "\n",
        "$$\\lambda[\\sum_{i=1}^{N}\\sum_{j=1}^{N}w_iw_j \\sigma_{ij}]-(1-\\lambda)[\\sum_{i=1}^{N}w_i\\mu_i]$$\n",
        "\n",
        "Sujeto a:\n",
        "\n",
        "$\\sum_{i=1}^{N} w_i =1$\n",
        "\n",
        "$\\sum_{i=1}^{N} z_i =K$\n",
        "\n",
        "$\\epsilon_i z_i \\leq w_i \\leq \\delta_iz_i,~~i=1,...,N$\n",
        "\n",
        "$z_i \\in [0,1], ~~i = 1,...,N$\n"
      ]
    },
    {
      "cell_type": "markdown",
      "metadata": {
        "id": "kOMR-aNCTznf"
      },
      "source": [
        "## Código"
      ]
    },
    {
      "cell_type": "markdown",
      "metadata": {
        "id": "AKQIwgzYTznf"
      },
      "source": [
        "#### Importe de librerías"
      ]
    },
    {
      "cell_type": "code",
      "execution_count": 1,
      "metadata": {
        "id": "PL5Hx_13qCfj"
      },
      "outputs": [],
      "source": [
        "import numpy as np\n",
        "import pandas as pd"
      ]
    },
    {
      "cell_type": "code",
      "execution_count": 2,
      "metadata": {
        "colab": {
          "base_uri": "https://localhost:8080/"
        },
        "id": "PzLq7l-Kc-zB",
        "outputId": "e0f2604d-06c3-4559-d94f-ee83aa044d0a"
      },
      "outputs": [
        {
          "output_type": "stream",
          "name": "stdout",
          "text": [
            "Mounted at /content/drive\n"
          ]
        }
      ],
      "source": [
        "from google.colab import drive\n",
        "drive.mount('/content/drive')\n",
        "drive_path= \"/content/drive/My Drive/Optimizacion/Datasets/\""
      ]
    },
    {
      "cell_type": "markdown",
      "metadata": {
        "id": "P-5sT9nKTznh"
      },
      "source": [
        "#### Función que crea los datos de entrada"
      ]
    },
    {
      "cell_type": "markdown",
      "metadata": {
        "id": "B-GqyUQHTzni"
      },
      "source": [
        "La función *create_data_input* crea el diccionario que recibe como dato de entrada la función *GA*, la cual que recrea el algoritmo genético. El diccionario consiste en:\n",
        "\n",
        "- *n* : Total de activos\n",
        "- *mean_list* : La lista del promedio y la desviación estándar de los rendimientos de los activos \n",
        "- *covariance* : Matriz de varianzas y covarianzas de los rendimientos de los activos \n",
        "- *epsilon* : Arreglo de las proporciones mínimas de los activos\n",
        "- *delta* : Arreglo de las proporciones máximas de los activos\n",
        "\n",
        "Por lo tanto, la función *create_data_input* recibe como parámetros la lista  del promedio y la desviación estándar de los rendimientos de los activos, la matriz de covarianzas y los arreglos de las proporciones mínimas y máximas. "
      ]
    },
    {
      "cell_type": "code",
      "execution_count": 3,
      "metadata": {
        "id": "0JUEs26eaYfN"
      },
      "outputs": [],
      "source": [
        "def create_data_input(assets_mean,covariance_matrix, epsilon, delta):\n",
        "    data = {\n",
        "        'n': len(assets_mean), # Total de activos\n",
        "         # La lista del promedio y la desviación estándar de los rendimientos de los activos \n",
        "        'mean_list':  assets_mean, \n",
        "        'covariance': covariance_matrix, # Matriz de varianzas y covarianzas\n",
        "        'epsilon': epsilon, # Arreglo de las proporciones mínimas de los activos\n",
        "        'delta' : delta # Arreglo de las proporciones máximas de los activos\n",
        "    }\n",
        "    return data"
      ]
    },
    {
      "cell_type": "markdown",
      "metadata": {
        "id": "JEhgp0rKfIMo"
      },
      "source": [
        "#### Funciones creadas para utilizar dentro del algoritmo genético:"
      ]
    },
    {
      "cell_type": "markdown",
      "metadata": {
        "id": "zuWRYm0kTznj"
      },
      "source": [
        "- Función *evaluate*:"
      ]
    },
    {
      "cell_type": "markdown",
      "metadata": {
        "id": "y-18KHMlTznk"
      },
      "source": [
        "La función *evaluate* asegura que las posibles soluciones sean factibles. Recibe como  parámetros el número de activos deseado $K$, el cromosoma $S$, el parámetro de ponderación $\\lambda$ y devuelve el cromosoma $S$ con los valores $s_i$ reestablecidos para que sea factible y el valor de la función objetivo para la solución $S$.\n",
        "\n",
        "La solución $S$ es el cromosoma que consiste en:\n",
        "- $Q$ : es el conjunto de $K$ activos distintos de la solución actual\n",
        "- $s$: vector de los valores de la proporción libre del portafolio que corresponde a los activos pertenientes a $Q$.\n",
        "- $epsilon$: vector de las proporciones mínimas de los activos pertenientes a $Q$.\n",
        "- $delta$: vector de las proporciones máximas de los activos pertenientes a $Q$.\n",
        "- $ W $:  vector de las proporciones $w$  correspondientes a los activos pertenientes a $Q$."
      ]
    },
    {
      "cell_type": "code",
      "execution_count": 35,
      "metadata": {
        "id": "FpEzFWbhdy9G"
      },
      "outputs": [],
      "source": [
        "def evaluate(data, K,  S, lambda_):\n",
        "\n",
        "  N = data['n'] # Número total de activos\n",
        "  p = len(S['Set']) # Tamaño de la población \n",
        "\n",
        "  f = [np.inf for _ in range(p)] # Inicializa el vector f, que guarda el valor de la función objetivo de cada cromosoma\n",
        "\n",
        "  # Para cada solución (cromosoma) de la población\n",
        "  for i in range(p):\n",
        "    \n",
        "    # # Verifica si la solución es infactible. En caso de serlo, genera otros cromosomas hasta encontrar uno factible.\n",
        "    # while np.sum( S['Set'][i]['epsilon'])>1 or np.sum( S['Set'][i]['delta'])<1:\n",
        "    #   muestra_K = np.random.choice(range(N), K, replace=False) #Genera la combinación de $K$ activos diferentes\n",
        "    #   S['Set'][i]['Q'] =  muestra_K # Guarda los índices de los activos pertenecientes a Q\n",
        "    #   S['Set'][i]['s'] = np.random.uniform(size = K ) #Genera aleatoriamente los valores $s_i$\n",
        "    #   S['Set'][i]['epsilon'] = data['epsilon'][ muestra_K ] #Guarda los valores de epsilon de los activos pertenecientes a Q\n",
        "    #   S['Set'][i]['delta'] = data['delta'][ muestra_K ] ##Guarda los valores de delta de los activos pertenecientes a Q\n",
        "\n",
        "    S['Set'][i]= {key: np.array(value) for key, value in S['Set'][i].items()} #Convierte en arreglo cada elemento de S\n",
        "\n",
        "    L =  np.sum( S['Set'][i]['s'] ) # L es la suma de todas las s\n",
        "    F = 1 - np.sum( S['Set'][i]['epsilon'] )  # F es la proporción libre del portafolio \n",
        "\n",
        "    # Calcula las proporciones para satisfacer epsilon y sumar 1 \n",
        "    S['Set'][i]['W'] = S['Set'][i]['epsilon'] + S['Set'][i]['s']*F/L\n",
        "\n",
        "    # Vector booleano que resulta de comparar w > delta\n",
        "    exceeded = S['Set'][i]['W'] > S['Set'][i]['delta']\n",
        "    \n",
        "    # Procedimiento iterativo para satisfacer proporciones máximas:\n",
        "    # Si  w > delta para algún activo, se itera hasta volverse factible\n",
        "    while np.sum(exceeded)!=0:\n",
        "        \n",
        "      # Se calcula la suma de s para los activos que satisfacen las proporciones mínimas\n",
        "      L = np.sum( S['Set'][i]['s'][np.where(~exceeded)[0]] )\n",
        "    \n",
        "     # Se calcula la porporción libre del portafolio\n",
        "      F = 1- np.sum( S['Set'][i]['epsilon'][np.where(~exceeded)[0]] ) + np.sum( S['Set'][i]['delta'][np.where(exceeded)[0]] ) \n",
        "      \n",
        "     # # Se calcula las proporciones w para los activos que satisfacen las proporciones mínimas\n",
        "      S['Set'][i]['W'][np.where(~exceeded)[0]] = S['Set'][i]['epsilon'][np.where(~exceeded)[0]] +  (F/L)*S['Set'][i]['s'][np.where(~exceeded)[0]]\n",
        "      \n",
        "      # Para los activos que no satisfacen las proporciones mínimas, se establece para w el límite\n",
        "      S['Set'][i]['W'][np.where(exceeded)[0]] = S['Set'][i]['delta'][np.where(exceeded)[0]]  \n",
        "    \n",
        "      # Se calcula nuevamente el lector booleano que resulta de comparar w > delta\n",
        "      exceeded = S['Set'][i]['W'] > S['Set'][i]['delta']\n",
        "\n",
        "    # Calcula el rendimiento esperado del conjunto Q de K activos.\n",
        "    Q = S['Set'][i]['Q']\n",
        "    mean = np.array([data['mean_list'][index] for index in Q])\n",
        "    \n",
        "    # Calcula el riesgo del conjunto Q de K activos.\n",
        "    w = np.zeros(N)\n",
        "    w[Q] = S['Set'][i]['W']\n",
        "    #w = np.array(w)\n",
        "    var_sum  = w@data['covariance']@w.reshape(-1,1) \n",
        "\n",
        "    # Se calcula la aptitud\n",
        "    f[i] = lambda_*var_sum - (1-lambda_)*np.sum( mean*S['Set'][i]['W'] )\n",
        "\n",
        "     # Verifica si la solución es infactible. En caso de serlo, establece el valor de infito a la función objetivo\n",
        "    if np.sum( S['Set'][i]['epsilon'])>1 or np.sum( S['Set'][i]['delta'])<1:\n",
        "      f[i]=np.inf\n",
        "    \n",
        "    # Se reestablece s\n",
        "    S['Set'][i]['s'] = S['Set'][i]['W'] - S['Set'][i]['epsilon']\n",
        "\n",
        "  return S, f\n",
        "\n"
      ]
    },
    {
      "cell_type": "markdown",
      "metadata": {
        "id": "l5FKP6-HTznl"
      },
      "source": [
        "- Función *binary_tournament_selection*:"
      ]
    },
    {
      "cell_type": "markdown",
      "metadata": {
        "id": "0qcfQ4gqKiiL"
      },
      "source": [
        "Los padres fueron elegidos por selección de torneo binario que\n",
        "funciona formando dos grupos de individuos conformados por dos individuos extraídos de la\n",
        "población al azar. Cada padre es extraído del individuo con mayor aptitud de cada grupo (menor función objetivo).\n",
        "\n",
        "La función recibe como datos de entrada el cromosoma $S$, el vector $f$ de los valores de la función objetivo de los cromosomas y el tamaño de la población $p$. La función devuelve los cromosomas de los padres."
      ]
    },
    {
      "cell_type": "code",
      "execution_count": 8,
      "metadata": {
        "id": "HB30FdvLRXZP"
      },
      "outputs": [],
      "source": [
        "def binary_tournament_selection(S, f, p):\n",
        "\n",
        "    num_candidates = p # Tamaño de la población\n",
        "\n",
        "    # Se forman dos grupos de torneos seleccionando al azar dos individuos de la población\n",
        "    pool1 = np.random.choice(range(num_candidates), 2, replace=False)\n",
        "    pool2 = np.random.choice(range(num_candidates), 2, replace=False)\n",
        "\n",
        "    # Se obtienen los valores de aptitud de los individuos en cada grupo\n",
        "    fitness_pool1 = [f[individual] for individual in pool1]\n",
        "    fitness_pool2 = [f[individual] for individual in pool2]\n",
        " \n",
        "    # Se selecciona a los padres con la mejor aptitud de cada grupo\n",
        "    parent1_index = pool1[fitness_pool1.index(min(fitness_pool1))]\n",
        "    parent2_index = pool2[fitness_pool2.index(min(fitness_pool2))]\n",
        "\n",
        "    parent1 = S['Set'][parent1_index]\n",
        "    parent2 = S['Set'][parent2_index]\n",
        "\n",
        "    return parent1, parent2\n"
      ]
    },
    {
      "cell_type": "markdown",
      "metadata": {
        "id": "x2M3zrzxTznm"
      },
      "source": [
        "- Función *uniform_crossover*:"
      ]
    },
    {
      "cell_type": "markdown",
      "metadata": {
        "id": "tkNKGnICTznm"
      },
      "source": [
        "La Función *uniform_crossover* aplica el cruce mediante el método uniforme para crear un único hijo. Cada activo se elige de cualquiera de los padres con igual probabilidad. La función recibe como parámetros los cromosomas de los padres  y tasa de cruce, que en este caso es $0.5$ por default. La función devuelve el cromosoma del hijo y el cromosoma $A$, que contiene todos los activos no heredados de los padres. "
      ]
    },
    {
      "cell_type": "code",
      "execution_count": 9,
      "metadata": {
        "id": "mFMO1VZwzbs2"
      },
      "outputs": [],
      "source": [
        "def uniform_crossover(S1, S2, crossover_rate=0.5):\n",
        "  K =  len(S1['Q']) # Número de activos deseados\n",
        "\n",
        "  # Crea el diccionario que representa el cromosoma del hijo\n",
        "  child = {'Set':[]} \n",
        "  child['Set'].append({'Q':[], 's':[], 'epsilon':[], 'delta':[], 'W': []})\n",
        "    \n",
        "  # Crea el diccionario que representa el cromosoma A, que contiene todos los activos no heredados de los padres\n",
        "  A = {'Q':[], 's':[], 'epsilon':[], 'delta':[], 'W':[]}\n",
        "\n",
        "  # Vector booleano que determina los activos que se heredan del primer padre. \n",
        "  # El negativo de este vector determina los activos que se heredan del segundo padre. \n",
        "  index = np.random.uniform(low=0.0, high=1.0, size= K ) < crossover_rate\n",
        "\n",
        "  # Se guardan los elementos obtenidos para el cromosoma del hijo\n",
        "  child['Set'][0]['Q'] = list(S1['Q'][index]) + list(S2['Q'][~index])\n",
        "  child['Set'][0]['s']  = list(S1['s'][index]) + list(S2['s'][~index])\n",
        "  child['Set'][0]['epsilon'] = list(S1['epsilon'][index]) + list(S2['epsilon'][~index])\n",
        "  child['Set'][0]['delta']= list(S1['delta'][index]) + list(S2['delta'][~index])\n",
        "  child['Set'][0]['W'] = list(S1['W'][index]) + list(S2['W'][~index])\n",
        "\n",
        "  # Como el hijo pudo haber heredado un activo más de una vez, se guarda en una lista los elementos únicos (sin repetición)\n",
        "  unique_child_Q = []\n",
        "  unique_child_s = []\n",
        "  unique_child_epsilon = []\n",
        "  unique_child_delta = []\n",
        "  unique_child_W = []\n",
        "\n",
        "  seen = set()\n",
        "  for elem1, elem2, elem3, elem4, elem5 in zip(child['Set'][0]['Q'], child['Set'][0]['s'], child['Set'][0]['epsilon'], child['Set'][0]['delta'], child['Set'][0]['W']):\n",
        "    if elem1 not in seen:\n",
        "      unique_child_Q.append(elem1)\n",
        "      unique_child_s.append(elem2)\n",
        "      unique_child_epsilon.append(elem3)\n",
        "      unique_child_delta.append(elem4)\n",
        "      unique_child_W.append(elem5)\n",
        "      seen.add(elem1)\n",
        "        \n",
        "  # Se guardan los elementos únicos obtenidos para el cromosoma del hijo\n",
        "  child['Set'][0]['Q'] = unique_child_Q\n",
        "  child['Set'][0]['s'] = unique_child_s\n",
        "  child['Set'][0]['epsilon'] = unique_child_epsilon\n",
        "  child['Set'][0]['delta'] = unique_child_delta\n",
        "  child['Set'][0]['W'] = unique_child_W\n",
        "    \n",
        "  # Se guardan los elementos no obtenidos para el cromosoma del hijo, es decir, los elementos no heredados de los padres\n",
        "  leftover_Q = list(S1['Q'][~index]) + list(S2['Q'][index])\n",
        "  leftover_s  = list(S1['s'][~index]) + list(S2['s'][index])\n",
        "  leftover_epsilon = list(S1['epsilon'][~index]) + list(S2['epsilon'][index])\n",
        "  leftover_delta = list(S1['delta'][~index]) + list(S2['delta'][index])\n",
        "  leftover_W  = list(S1['W'][~index]) + list(S2['W'][index])\n",
        "    \n",
        "  # Como el puede haber elementos repetidos en el conjunto de elementos heredados,\n",
        "  # se guarda en una lista los elementos únicos (sin repetición)\n",
        "  unique_leftover_Q = []\n",
        "  unique_leftover_s = []\n",
        "  unique_leftover_epsilon = []\n",
        "  unique_leftover_delta = []\n",
        "  unique_leftover_W = []\n",
        "\n",
        "  seen = set()\n",
        "  for elem1, elem2, elem3, elem4, elem5 in zip(leftover_Q, leftover_s, leftover_epsilon, leftover_delta, leftover_W):\n",
        "    if elem1 not in seen:\n",
        "      unique_leftover_Q.append(elem1)\n",
        "      unique_leftover_s.append(elem2)\n",
        "      unique_leftover_epsilon.append(elem3)\n",
        "      unique_leftover_delta.append(elem4)\n",
        "      unique_leftover_W.append(elem5)\n",
        "      seen.add(elem1)\n",
        "        \n",
        "  # Se guardan los elementos únicos obtenidos para el cromosoma A\n",
        "  A['Q']= [x for x in  unique_leftover_Q if x not in child['Set'][0]['Q']]\n",
        "  A['s']= [unique_leftover_s[unique_leftover_Q.index(x)] for x in  unique_leftover_Q if x not in child['Set'][0]['Q']]\n",
        "  A['epsilon']= [unique_leftover_epsilon[unique_leftover_Q.index(x)] for x in  unique_leftover_Q if x not in child['Set'][0]['Q']]\n",
        "  A['delta']= [unique_leftover_delta[unique_leftover_Q.index(x)] for x in  unique_leftover_Q if x not in child['Set'][0]['Q']]\n",
        "  A['W']= [unique_leftover_W[unique_leftover_Q.index(x)] for x in  unique_leftover_Q if x not in child['Set'][0]['Q']]\n",
        "\n",
        "  return child, A"
      ]
    },
    {
      "cell_type": "markdown",
      "metadata": {
        "id": "JDbOvjP3Tznn"
      },
      "source": [
        "#### Función que recrea el algoritmo genético:"
      ]
    },
    {
      "cell_type": "markdown",
      "metadata": {
        "id": "Q-t_I3CJTznn"
      },
      "source": [
        "La función *GA* recibe como parámetros el diccionario de los datos de entrada, el cromosoma $S$, el número $E$ de parámetros $\\lambda$ que se desean examinar, el tamaño de la población $p$ y el número máximo de iteraciones (*max_iter*).\n",
        "\n",
        "La función devuelve la mejor solución para cada $\\lambda$ determinado. Cada solución es un diccionario que contiene:\n",
        "- *Valor de lambda*\n",
        "- *fitness*: La aptitud de la solución, es decir, el valor de la función objetivo\n",
        "- *weight*: Las proporciones $w_i$\n",
        "- *mean_port*: El rendimiento esperado del portafolio.\n",
        "- *risk_port*: El riesgo del portafolio.\n"
      ]
    },
    {
      "cell_type": "code",
      "execution_count": 43,
      "metadata": {
        "id": "8VJ0O51bVkwR"
      },
      "outputs": [],
      "source": [
        "def GA(data, K, E,  p = 100, max_iter =1000):\n",
        "\n",
        "  N = data['n'] # Nímero de activos disponibles\n",
        "\n",
        "  best_solution = {'lambda':[]} # Diccionario que guarda las mejores soluciones paa cada lambda\n",
        "\n",
        "  # Para cada lambda:\n",
        "  for e in range(E):\n",
        "    lambda_ = e/(E-1) # Examina E números de lambdas igualmente espaciados en [0,1]\n",
        "\n",
        "    best_solution['lambda'].append({'Valor de lambda':[], 'portfolio':0, 'fitness':0,  'weight':[], 'mean_port':[], 'risk_port':[] })\n",
        "    best_solution['lambda'][e]['Valor de lambda'] = lambda_ \n",
        "\n",
        "    # Crea aleatoriamente el p cromosomas S\n",
        "    S = {'Set':[]}\n",
        "\n",
        "    for i in range(p):\n",
        "      S['Set'].append({'Q':[], 's':[], 'epsilon':[], 'delta':[], 'W':[] })\n",
        "      muestra_K = np.random.choice(range(N), K, replace=False)\n",
        "      S['Set'][i]['Q'] =  muestra_K\n",
        "      S['Set'][i]['s'] = np.random.uniform(size = K )\n",
        "      S['Set'][i]['epsilon'] = data['epsilon'][ muestra_K ]\n",
        "      S['Set'][i]['delta'] = data['delta'][ muestra_K ]\n",
        "      S['Set'][i]['W'] = np.zeros(K)\n",
        "    \n",
        "    # Evalúa los cromosomas, garantizando que sean factibles y devolviendo el vector f de los valores la función objetivo\n",
        "    S, f  = evaluate(data, K,  S, lambda_)\n",
        "\n",
        "    # Para cada iteración:\n",
        "    for _ in range(max_iter):\n",
        "        \n",
        "      # Se aplica el método de selección por torneo binario\n",
        "      S1, S2 = binary_tournament_selection(S, f, p)\n",
        "        \n",
        "      # Se realiza el cruce de los padres por el método uniforme\n",
        "      C, A = uniform_crossover(S1, S2, crossover_rate=0.5)\n",
        "\n",
        "      # Elige aleatoriamente un activo i del cromosoma\n",
        "      i = np.random.choice(range(len(C['Set'][0]['Q'])), 1, replace=False)[0]  \n",
        "      m = np.random.choice([1,2], 1, replace=False)\n",
        "    \n",
        "      # Se realiza el proceso de mutación\n",
        "      if m==1:\n",
        "        C['Set'][0]['s'][i] = 0.9*( C['Set'][0]['epsilon'][i] + C['Set'][0]['s'][i]) - C['Set'][0]['epsilon'][i]\n",
        "      else:\n",
        "        C['Set'][0]['s'][i] = 1.1*( C['Set'][0]['epsilon'][i] + C['Set'][0]['s'][i]) - C['Set'][0]['epsilon'][i]\n",
        "\n",
        "      # Si el valor s mutado es negativo, se elimina el activo  i del conjunto Q\n",
        "      if C['Set'][0]['s'][i] < 0:\n",
        "        for key in C['Set'][0]:\n",
        "          del C['Set'][0][key][i]\n",
        "\n",
        "      # Mientras la cardinalidad del conjunto Q sea mayor a K, se eliminan los activos con menor valor s\n",
        "      while len( C['Set'][0]['Q']) > K:\n",
        "        min_index = C['Set'][0]['s'].index(min(C['Set'][0]['s']))       \n",
        "        \n",
        "        for key in C['Set'][0]:\n",
        "          del C['Set'][0][key][min_index]\n",
        "        \n",
        "      # Mientras la cardinalidad del conjunto Q sea menor a K: \n",
        "      while len( C['Set'][0]['Q']) < K:\n",
        "        \n",
        "        # Se toma aleatoriamente un activo j (junto con sus valores asociados) del cromosoma A, que contiene los activos no heredados\n",
        "        if len(A['Q'])!=0:\n",
        "          j = np.random.choice(A['Q'], 1, replace=False)[0]\n",
        "          index_j = A['Q'].index(j)\n",
        "          for key in C['Set'][0]:\n",
        "            C['Set'][0][key].append(A[key][index_j])\n",
        "            del A[key][index_j]\n",
        "            \n",
        "        # Si el conjunto Q del cromosoma A está vacio, se toma aleatoriamente un activo j (junto con sus valores asociados) diferente del conjunto disponible\n",
        "        else:\n",
        "          child_Q_set = set(C['Set'][0]['Q'])\n",
        "        \n",
        "          j = np.random.choice(range(N), 1, replace=False)[0]   \n",
        "          while j in child_Q_set: \n",
        "            j = np.random.choice(range(N), 1, replace=False)[0]\n",
        "          \n",
        "          C['Set'][0]['Q'].append(j)\n",
        "          C['Set'][0]['s'].append(0)\n",
        "          C['Set'][0]['epsilon'].append(data['epsilon'][j])\n",
        "          C['Set'][0]['delta'].append(data['delta'][j])\n",
        "          C['Set'][0]['W'].append(0)                              \n",
        "            \n",
        "      # Ahora que el conjunto Q del hijo tiene exactamente K activos, se procede a aplicar la evaluación\n",
        "      C, fc  = evaluate(data,K, C, lambda_)\n",
        "      \n",
        "      # Encuentra al peor miembro de la población\n",
        "      worse_population_member = f.index(max(f))\n",
        "\n",
        "      # Reemplaza al peor miembro de la población por el hijo\n",
        "      for key in S['Set'][worse_population_member]:\n",
        "          S['Set'][worse_population_member][key] = C['Set'][0][key]\n",
        "\n",
        "      f[worse_population_member]= fc[0]\n",
        "    \n",
        "    # Encuentra al mejor miembro de la población\n",
        "    min_fitness = min(f) # Obtiene la mejor aptitud\n",
        "    best_member_index = f.index(min_fitness) # Obtiene el índice del mejor cromosoma \n",
        "    best_Q = S['Set'][best_member_index]['Q'] # Guarda el conjunto Q del mejor cromosoma \n",
        "\n",
        "    # Obtiene las medias de los rendimientos de los activos del conjunto Q del mejor cromosoma \n",
        "    mean_port = np.array([data['mean_list'][index] for index in best_Q])\n",
        "    \n",
        "    # Calcula el riesgo del conjunto de Q del mejor cromosoma \n",
        "    W_port = np.zeros(N)\n",
        "    W_port[best_Q] = S['Set'][best_member_index]['W']\n",
        "    W_port = np.array(W_port)\n",
        "    risk_port = W_port@data['covariance']@W_port.reshape(-1,1)\n",
        "    \n",
        "    # Guarda los resultados del mejor cromosoma para el lambda dado.\n",
        "    best_solution['lambda'][e]['portfolio'] =  best_Q\n",
        "    best_solution['lambda'][e]['fitness'] =  min_fitness\n",
        "    best_solution['lambda'][e]['weight'] = S['Set'][ best_member_index ]['W']\n",
        "    best_solution['lambda'][e]['mean_port'] = np.sum(mean_port*W_port[best_Q])\n",
        "    best_solution['lambda'][e]['risk_port'] = np.sqrt(risk_port[0])\n",
        "\n",
        "  return best_solution\n"
      ]
    },
    {
      "cell_type": "markdown",
      "source": [
        "#### Función que calcula la frontera eficiente del problema de optimización de portafolio sin restricciones:"
      ],
      "metadata": {
        "id": "y1SS_DH2oCfi"
      }
    },
    {
      "cell_type": "code",
      "source": [
        "#--------------------------El siguiente código calcula la frontera eficiente de un portafolio de inversiones\n",
        "#--------------------------correspondiente a la misma base de datos de 31 acciones, esta vez se pinta el punto de varianza mínima-------\n",
        "import numpy as np\n",
        "import yfinance as yf\n",
        "import matplotlib.pyplot as plt\n",
        "from scipy.optimize import minimize\n",
        "\n",
        "# Definimos la función objetivo y las restricciones\n",
        "def objective_function(weights, cov_matrix):\n",
        "    return np.sum(np.dot(weights, cov_matrix) * weights)\n",
        "\n",
        "def constraint_return(weights, expected_returns, target_return):\n",
        "    return np.sum(np.dot(weights, expected_returns)) - target_return\n",
        "\n",
        "def constraint_sum(weights):\n",
        "    return np.sum(weights) - 1.0\n",
        "\n",
        "def optimize_portfolio(expected_returns, cov_matrix, target_return):\n",
        "    num_assets = len(expected_returns)\n",
        "    initial_weights = np.ones(num_assets) / num_assets  # starting with equal weights\n",
        "\n",
        "    bounds = [(0, 1) for _ in range(num_assets)]  # non-negative weights constraint\n",
        "\n",
        "    constraints = [{'type': 'eq', 'fun': constraint_return, 'args': (expected_returns, target_return)},\n",
        "                   {'type': 'eq', 'fun': constraint_sum}]\n",
        "\n",
        "    options = {'disp': False, 'iprint': 0}\n",
        "\n",
        "    result = minimize(objective_function, initial_weights, args=(cov_matrix,), method='SLSQP',\n",
        "                      bounds=bounds, constraints=constraints, options=options)\n",
        "    optimized_weights = result.x\n",
        "    optimized_risk = np.sqrt(np.dot(optimized_weights, np.dot(cov_matrix, optimized_weights)))\n",
        "\n",
        "    return optimized_weights, optimized_risk\n",
        "\n",
        "\n",
        "def plot_efficient_frontier(expected_returns, cov_matrix):\n",
        "    num_assets = len(expected_returns)\n",
        "    target_returns = np.linspace(np.min(expected_returns), np.max(expected_returns), num_assets)\n",
        "    efficient_risks = []\n",
        "\n",
        "    for target_return in target_returns:\n",
        "        weights, risk = optimize_portfolio(expected_returns, cov_matrix, target_return)\n",
        "        efficient_risks.append(risk)\n",
        "\n",
        "    efficient_risks = np.array(efficient_risks)  # Convertir a array NumPy\n",
        "\n",
        "    # Encontrar el índice del mínimo riesgo\n",
        "    idx_min_risk = np.argmin(efficient_risks)\n",
        "\n",
        "    # Acotar la curva desde el mínimo riesgo\n",
        "    efficient_risks = efficient_risks[idx_min_risk:]\n",
        "    target_returns = target_returns[idx_min_risk:]\n",
        "\n",
        "    # Graficar la frontera eficiente acotada\n",
        "    plt.figure(figsize=(10, 6))\n",
        "    plt.plot(efficient_risks, target_returns, c='blue', label='Frontera Eficiente')\n",
        "    plt.scatter(efficient_risks[0], target_returns[0], c='red', label='Cartera de Mínima Varianza')\n",
        "    plt.xlabel('Riesgo')\n",
        "    plt.ylabel('Rendimiento Esperado')\n",
        "    plt.title('Frontera Eficiente')\n",
        "    plt.grid(True)\n",
        "    plt.legend()\n",
        "    plt.show()\n",
        "\n",
        "    return efficient_risks, target_returns\n",
        "\n"
      ],
      "metadata": {
        "id": "ii51Vne7n7x6"
      },
      "execution_count": 45,
      "outputs": []
    },
    {
      "cell_type": "markdown",
      "source": [
        "#### Función que grafica la frontera eficiente:"
      ],
      "metadata": {
        "id": "ldAiOrOspZDv"
      }
    },
    {
      "cell_type": "code",
      "source": [
        "def efficient_frontier_graph(K, mean_set, risk_set):\n",
        "\n",
        "  import matplotlib.pyplot as plt\n",
        "  plt.scatter(risk_set, mean_set, label = \"K = \"  + str(K))\n",
        "  plt.xlabel('Riesgo - Desviación estándar')\n",
        "  plt.ylabel('Retorno')\n",
        "  plt.title('Frontera eficiente')\n",
        "  plt.legend()\n",
        "  plt.show()\n"
      ],
      "metadata": {
        "id": "t6zdC9f_pI5Y"
      },
      "execution_count": 47,
      "outputs": []
    },
    {
      "cell_type": "markdown",
      "metadata": {
        "id": "ZjaTftxsTznn"
      },
      "source": [
        "### Ejemplo 1"
      ]
    },
    {
      "cell_type": "markdown",
      "source": [
        "Lectura de los datos de 31 acciones:"
      ],
      "metadata": {
        "id": "TXE5uA7Xpk89"
      }
    },
    {
      "cell_type": "code",
      "execution_count": 11,
      "metadata": {
        "id": "iNlDxkhEVG23"
      },
      "outputs": [],
      "source": [
        "file_path ='port1.txt'\n",
        "with open(file_path, 'r') as file:\n",
        "    content = file.read()\n",
        "\n",
        "lines = content.splitlines()\n",
        "lines\n",
        "\n",
        "tuple_list = []\n",
        "for string in lines:\n",
        "    nums = string.split()  # Split the string by space\n",
        "    float_nums = tuple(float(num) for num in nums)  # Convert substrings to floats and create a tuple\n",
        "    tuple_list.append(float_nums)\n",
        "\n",
        "n = int(tuple_list[0][0])\n",
        "mean = tuple_list[1:(n+1)]\n",
        "mean=[x[0] for x in mean]\n",
        "corr = tuple_list[(n+1):len(tuple_list)]\n",
        "\n",
        "#matriz de correlacion\n",
        "correlation_matrix = np.zeros((n,n))\n",
        "for i in range(len(corr)):\n",
        "  correlation_matrix[int(corr[i][0]-1),int(corr[i][1]-1)] = corr[i][2]\n",
        "  correlation_matrix[int(corr[i][1]-1),int(corr[i][0]-1)] = corr[i][2]\n",
        "\n",
        "std_devs = np.sqrt(np.diag(correlation_matrix))\n",
        "covariance_matrix = correlation_matrix * np.outer(std_devs, std_devs)"
      ]
    },
    {
      "cell_type": "markdown",
      "source": [
        "A continuación, se muestra frontera eficiente sin restricciones."
      ],
      "metadata": {
        "id": "RvctMznQqNNy"
      }
    },
    {
      "cell_type": "code",
      "source": [
        "risks_N31, returns_N31 = plot_efficient_frontier(mean, covariance_matrix ) # Puntos de la "
      ],
      "metadata": {
        "id": "Gucl7OADqLrQ"
      },
      "execution_count": null,
      "outputs": []
    },
    {
      "cell_type": "markdown",
      "source": [
        "Para aplicar el algoritmo genético, primero se crean los datos de entrada."
      ],
      "metadata": {
        "id": "_Iyou4Gbql0V"
      }
    },
    {
      "cell_type": "code",
      "execution_count": 41,
      "metadata": {
        "id": "UDU78yEgsO52"
      },
      "outputs": [],
      "source": [
        "epsilon = np.zeros(len(mean))\n",
        "#epsilon= np.array([0.01]*len(mean))\n",
        "delta_unos =  np.ones(len(mean))\n",
        "data = create_data_input(mean,covariance_matrix, epsilon, delta_unos)\n"
      ]
    },
    {
      "cell_type": "markdown",
      "source": [
        "Se aplica el algoritmo genético:"
      ],
      "metadata": {
        "id": "2ze3C1spq5RD"
      }
    },
    {
      "cell_type": "code",
      "execution_count": 44,
      "metadata": {
        "id": "mHvTmtfqkKpS",
        "colab": {
          "base_uri": "https://localhost:8080/"
        },
        "outputId": "19778d24-4193-427b-b3a4-a106415aadc2"
      },
      "outputs": [
        {
          "output_type": "stream",
          "name": "stdout",
          "text": [
            "CPU times: user 25min 52s, sys: 59.3 s, total: 26min 52s\n",
            "Wall time: 28min 32s\n"
          ]
        }
      ],
      "source": [
        "%%time\n",
        "\n",
        "N = data['n']\n",
        "solucion = GA(data, K= N , E=50 ,  p = 100, max_iter =1000*N)"
      ]
    },
    {
      "cell_type": "code",
      "execution_count": null,
      "metadata": {
        "id": "AQtpL8rPtALP"
      },
      "outputs": [],
      "source": [
        "solucion"
      ]
    },
    {
      "cell_type": "code",
      "execution_count": 48,
      "metadata": {
        "id": "cIcJkOU0GPGu"
      },
      "outputs": [],
      "source": [
        "mean_set = np.array( [item['mean_port'] for item in solucion['lambda']] ) # Conjunto de las medias obtenidas por el algoritmo genético\n",
        "risk_set = np.array( [item['risk_port'] for item in solucion['lambda']] ) # Conjunto de los riesgos obtenidos por el algoritmo genético\n"
      ]
    },
    {
      "cell_type": "markdown",
      "source": [
        "Para el caso de $K=N$, se compara el resultado obtenido mediante el algoritomo genético y mediante porgramación cuadrática."
      ],
      "metadata": {
        "id": "XqIKjUBGraZU"
      }
    },
    {
      "cell_type": "code",
      "source": [
        "K = N\n",
        "plt.scatter(risk_set, mean_set, label = \"K = \"  + str(K), color = 'red')\n",
        "plt.plot(risks_N31, returns_N31 )\n",
        "plt.xlabel('Riesgo - Varianza')\n",
        "plt.ylabel('Retorno')\n",
        "plt.title('Frontera eficiente')\n",
        "plt.legend()\n",
        "plt.show()"
      ],
      "metadata": {
        "colab": {
          "base_uri": "https://localhost:8080/",
          "height": 472
        },
        "id": "LNk3zNknrGZT",
        "outputId": "a89835e7-ebe1-41cb-ca77-4d1d03e872cf"
      },
      "execution_count": 50,
      "outputs": [
        {
          "output_type": "display_data",
          "data": {
            "text/plain": [
              "<Figure size 640x480 with 1 Axes>"
            ],
            "image/png": "[encoded data removed]"
          },
          "metadata": {}
        }
      ]
    },
    {
      "cell_type": "markdown",
      "source": [
        "### Ejemplo 2"
      ],
      "metadata": {
        "id": "07gYiUOaucBt"
      }
    },
    {
      "cell_type": "code",
      "source": [
        "#Ejemplo de codigo para una base de datos en la que se consideran índices de 50 empresas diferentes en un periodo de 3 años\"\n",
        "#-------------El siguiente código considera una base datos de 50 índices de empresas en un periodo de 3años--\n",
        "#-------------Se grafica la frontera eficiente y se pinta el punto de mínima varianza----------------------\n",
        "\n",
        "# Obtener los expected_returns y la matriz de covarianzas\n",
        "symbols = [\n",
        "    'AAPL', 'GOOGL', 'MSFT','DAX', 'AMZN', 'JPM', 'V', 'JNJ', 'WMT', 'PG',\n",
        "    'MA', 'UNH', 'NVDA', 'VZ', 'DIS', 'HD', 'BAC', 'T', 'PYPL', 'PFE',\n",
        "    'INTC', 'ADBE', 'TSLA', 'CMCSA', 'KO', 'MRK', 'NFLX', 'CRM', 'CSCO', 'XOM',\n",
        "    'PEP', 'ABBV', 'ABT', 'CVX', 'ORCL', 'MCD', 'TSM', 'IBM', 'HON', 'AMGN',\n",
        "    'NKE', 'ACN', 'TXN', 'SAP', 'BMY', 'SIEGY', 'TM', 'BA', 'GSK', 'SNY'\n",
        "] \n",
        "import numpy as np\n",
        "import yfinance as yf\n",
        "import matplotlib.pyplot as plt\n",
        "from scipy.optimize import minimize\n",
        "\n",
        "#Definimos la función objetivo:\n",
        "\n",
        " #La función objetivo toma como argumentos los pesos de asignación de los activos en el portafolio\n",
        "  # y la matriz de covarianza de los retornos de los activos\n",
        "  #La función calcula la varianza del portafolio: calculando el producto punto entre el vector de pesos\n",
        "  # y la matriz de cov. posteriormente calcula la suma ponderada de los elementos resultantes.\n",
        "def objective_function(weights, cov_matrix):\n",
        "    return np.sum(np.dot(weights, cov_matrix) * weights)\n",
        "\n",
        "# Definimos las constricciones:\n",
        "\n",
        "# Restricción que calcula la suma ponderada de los rendimientos esperados\n",
        " #Se define de tal forma que la suma ponderada de los rendimientos esperados sea igual al rendimiento deseado, con el objetivo de cumplir connun determinado nivel de rendimiento objetivo.\n",
        "def constraint_return(weights, expected_returns, target_return):\n",
        "    return np.sum(weights * expected_returns) - target_return\n",
        "\n",
        "#Restricción que define a la suma de los pesos igual a 1\n",
        "#Permite asegurar que se invierta todo el capital disponible en el portafolio resultante.\n",
        "def constraint_sum(weights):\n",
        "    return np.sum(weights) - 1.0\n",
        "\n",
        "#Esta función optimiza el portafolio de inversiones\n",
        "def optimize_portfolio(expected_returns, cov_matrix, target_return):\n",
        "    num_assets = len(expected_returns)#Longitud de los rendimientos esperados\n",
        "    #Inicializa los pesos permitiendo que todos los activos tengan pesos iguales\n",
        "    initial_weights = np.ones(num_assets) / num_assets  # starting with equal weights\n",
        "\n",
        "#Restricciones:\n",
        "    \n",
        "    #Garantiza que no existan pesos negativos\n",
        "    bounds = [(0, 1) for _ in range(num_assets)] \n",
        "\n",
        "   #Garantiza que el rendimiento del portafolio sea igual al rendimiento objetivo deseado\n",
        "    constraints = [{'type': 'eq', 'fun': constraint_return, 'args': (expected_returns, target_return)},\n",
        "                   {'type': 'eq', 'fun': constraint_sum}]#Restricción  que garantiza que la suma de los pesos de asignación sea igual a 1.\n",
        "\n",
        "    options = {'disp': False, 'iprint': 0}#suprime los mensajes de impresión\n",
        "\n",
        "\n",
        "    #función que permite encontrar los pesos de asignación óptimos para el portafolio, minimizando la función objetivo sujeta a las restriciiones dadas\n",
        "    #Usa SLSQP para encontrar los pesos óptimos\n",
        "    result = minimize(objective_function, initial_weights, args=(cov_matrix,), method='SLSQP',\n",
        "                      bounds=bounds, constraints=constraints, options=options)\n",
        "    optimized_weights = result.x #Pesos óptimos\n",
        "    optimized_objective = result.fun #Valor óptimo de la función objetivo\n",
        "\n",
        "    return optimized_weights, optimized_objective\n",
        "\n",
        "import pandas as pd\n",
        "import yfinance as yf\n",
        "\n",
        "def get_expected_returns_and_covariance(symbols, save_to_file=False):\n",
        "    data = yf.download(symbols, start='2019-01-01', end='2022-01-01')['Adj Close']\n",
        "    returns = data.pct_change().dropna()\n",
        "    expected_returns = returns.mean()\n",
        "    cov_matrix = returns.cov()\n",
        "\n",
        "    if save_to_file == True:\n",
        "        returns.to_csv('returns_List50.csv')  # Guardar los retornos en un archivo CSV\n",
        "        cov_matrix.to_csv('covariance_List50.csv')  # Guardar la matriz de covarianza en un archivo CSV\n",
        "\n",
        "    return expected_returns, cov_matrix\n",
        "\n",
        "# Obtener los expected_returns y la matriz de covarianzas y guardarlos en archivos CSV\n",
        "\n",
        "expected_returns, cov_matrix = get_expected_returns_and_covariance(symbols, save_to_file=True)\n",
        "\n",
        "\n",
        "def plot_efficient_frontier(expected_returns, cov_matrix):\n",
        "    num_assets = len(expected_returns)\n",
        "    target_returns = np.linspace(min(expected_returns), max(expected_returns), 100)\n",
        "    efficient_objectives = []\n",
        "\n",
        "    for target_return in target_returns:\n",
        "        weights, objective = optimize_portfolio(expected_returns, cov_matrix, target_return)\n",
        "        efficient_objectives.append(objective)\n",
        "\n",
        "    minimum_objective_index = np.argmin(efficient_objectives)\n",
        "    minimum_objective = efficient_objectives[minimum_objective_index]\n",
        "    minimum_return = target_returns[minimum_objective_index]\n",
        "\n",
        "    plt.figure(figsize=(10, 6))\n",
        "    plt.scatter(efficient_objectives, target_returns, c='blue', label='Frontera Eficiente')\n",
        "    plt.scatter(minimum_objective, minimum_return, c='red', label='Minimum Variance')\n",
        "    plt.xlabel('Riesgo')\n",
        "    plt.ylabel('Rendimiento Esperado')\n",
        "    plt.title('Frontera Eficiente')\n",
        "    plt.grid(True)\n",
        "    plt.legend()\n",
        "    plt.show()\n",
        "\n",
        "    return efficient_objectives,target_returns"
      ],
      "metadata": {
        "colab": {
          "base_uri": "https://localhost:8080/"
        },
        "id": "0mZpC1iqE8Zq",
        "outputId": "fa77e8ea-1954-40fd-d85f-886c223b01cc"
      },
      "execution_count": null,
      "outputs": [
        {
          "output_type": "stream",
          "name": "stdout",
          "text": [
            "[*********************100%***********************]  50 of 50 completed\n"
          ]
        }
      ]
    },
    {
      "cell_type": "code",
      "source": [
        "# Obtener los expected_returns y la matriz de covarianzas\n",
        "symbols = [\n",
        "    'AAPL', 'GOOGL', 'MSFT','DAX', 'AMZN', 'JPM', 'V', 'JNJ', 'WMT', 'PG',\n",
        "    'MA', 'UNH', 'NVDA', 'VZ', 'DIS', 'HD', 'BAC', 'T', 'PYPL', 'PFE',\n",
        "    'INTC', 'ADBE', 'TSLA', 'CMCSA', 'KO', 'MRK', 'NFLX', 'CRM', 'CSCO', 'XOM',\n",
        "    'PEP', 'ABBV', 'ABT', 'CVX', 'ORCL', 'MCD', 'TSM', 'IBM', 'HON', 'AMGN',\n",
        "    'NKE', 'ACN', 'TXN', 'SAP', 'BMY', 'SIEGY', 'TM', 'BA', 'GSK', 'SNY'\n",
        "] # Ejemplo de símbolos de acciones\n",
        "expected_returns, cov_matrix = get_expected_returns_and_covariance(symbols)\n",
        "\n",
        "# Optimizar y graficar la frontera eficiente\n",
        "risks_N50,returns_N50 = plot_efficient_frontier(expected_returns, cov_matrix)"
      ],
      "metadata": {
        "colab": {
          "base_uri": "https://localhost:8080/",
          "height": 581
        },
        "id": "ycWduqyqBd3n",
        "outputId": "85f21ede-948d-4dc8-cb1d-99de1849b1ca"
      },
      "execution_count": null,
      "outputs": [
        {
          "output_type": "stream",
          "name": "stdout",
          "text": [
            "[*********************100%***********************]  50 of 50 completed\n"
          ]
        },
        {
          "output_type": "display_data",
          "data": {
            "text/plain": [
              "<Figure size 1000x600 with 1 Axes>"
            ],
            "image/png": "[encoded data removed]"
          },
          "metadata": {}
        }
      ]
    },
    {
      "cell_type": "markdown",
      "source": [
        "Para aplicar el algoritmo genético, primero se crean los datos de entrada."
      ],
      "metadata": {
        "id": "kuva1H_8wZza"
      }
    },
    {
      "cell_type": "code",
      "source": [
        "import pandas as pd\n",
        "import numpy as np\n",
        "returns = pd.read_csv(\"returns_List50-2.csv\",header=None).to_numpy()\n",
        "covariance = pd.read_csv(\"covariance_List50-2.csv\",header=None).to_numpy()\n",
        "returns =  returns[1:, 1:]\n",
        "returns = returns.astype(np.float)\n",
        "returns = np.mean(returns, axis=0)\n",
        "\n",
        "covariance = covariance[1:, 1:]\n",
        "covariance = covariance.astype(np.float)"
      ],
      "metadata": {
        "id": "zDO8z1JtyZtT"
      },
      "execution_count": null,
      "outputs": []
    },
    {
      "cell_type": "code",
      "source": [
        "epsilon_ceros = np.zeros(len(returns))\n",
        "delta_unos =  np.ones(len(returns))\n",
        "data2 = create_data_input(returns,covariance, epsilon_ceros, delta_unos)"
      ],
      "metadata": {
        "id": "6uCZ-aYEWiDM"
      },
      "execution_count": 36,
      "outputs": []
    },
    {
      "cell_type": "markdown",
      "source": [
        "Se aplica el algoritmo genético:"
      ],
      "metadata": {
        "id": "l7lwRzgdwZzk"
      }
    },
    {
      "cell_type": "code",
      "execution_count": null,
      "metadata": {
        "colab": {
          "base_uri": "https://localhost:8080/"
        },
        "outputId": "270deb7d-7cec-4815-b340-dc5a6f374a0f",
        "id": "tqX4c7Q3woFe"
      },
      "outputs": [
        {
          "output_type": "stream",
          "name": "stdout",
          "text": [
            "CPU times: user 11min 52s, sys: 49.6 s, total: 12min 41s\n",
            "Wall time: 12min 21s\n"
          ]
        }
      ],
      "source": [
        "%%time\n",
        "N = 50\n",
        "solucion2 = GA(data2, K=10, E= 50,  p = 100, max_iter =1000*N)"
      ]
    },
    {
      "cell_type": "code",
      "source": [
        "mean_set2 = np.array( [item['mean_port'] for item in solucion2['lambda']] )\n",
        "risk_set2 = np.array( [item['risk_port'] for item in solucion2['lambda']] )\n",
        "efficient_frontier_graph(10, mean_set2, risk_set2)"
      ],
      "metadata": {
        "colab": {
          "base_uri": "https://localhost:8080/",
          "height": 472
        },
        "outputId": "c5bec705-198a-4603-b645-0c0bd66cfa0d",
        "id": "4av5yNbkwoF0"
      },
      "execution_count": null,
      "outputs": [
        {
          "output_type": "display_data",
          "data": {
            "text/plain": [
              "<Figure size 640x480 with 1 Axes>"
            ],
            "image/png": "[encoded data removed]"
          },
          "metadata": {}
        }
      ]
    }
  ],
  "metadata": {
    "colab": {
      "gpuType": "T4",
      "provenance": []
    },
    "kernelspec": {
      "display_name": "Python 3 (ipykernel)",
      "language": "python",
      "name": "python3"
    },
    "language_info": {
      "codemirror_mode": {
        "name": "ipython",
        "version": 3
      },
      "file_extension": ".py",
      "mimetype": "text/x-python",
      "name": "python",
      "nbconvert_exporter": "python",
      "pygments_lexer": "ipython3",
      "version": "3.9.13"
    }
  },
  "nbformat": 4,
  "nbformat_minor": 0
}